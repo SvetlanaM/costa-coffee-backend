{
 "cells": [
  {
   "cell_type": "code",
   "execution_count": 2,
   "metadata": {},
   "outputs": [],
   "source": [
    "import urllib\n",
    "from urllib.error import HTTPError\n",
    "import requests\n",
    "import ssl\n",
    "ssl._create_default_https_context = ssl._create_unverified_context\n",
    "import csv\n",
    "from xml import etree\n",
    "from xml.sax.saxutils import unescape\n",
    "import xml.etree.ElementTree as ET\n",
    "import json\n",
    "import html\n",
    "import pandas as pd\n",
    "import numpy as np\n",
    "import re\n",
    "import unicodedata\n",
    "import datetime"
   ]
  },
  {
   "cell_type": "code",
   "execution_count": 3,
   "metadata": {},
   "outputs": [],
   "source": [
    "pd.options.mode.chained_assignment = None"
   ]
  },
  {
   "cell_type": "code",
   "execution_count": 4,
   "metadata": {},
   "outputs": [],
   "source": [
    "def get_root(url):\n",
    "    req = urllib.request.Request(url=url)\n",
    "    try:\n",
    "        handler = urllib.request.urlopen(req)\n",
    "        tree = ET.ElementTree(file = handler)\n",
    "        root = tree.getroot()\n",
    "        return root\n",
    "    except HTTPError as e:\n",
    "        content = e.read()\n",
    "        return content"
   ]
  },
  {
   "cell_type": "code",
   "execution_count": 5,
   "metadata": {},
   "outputs": [],
   "source": [
    "base_url = \"https://www.costa-coffee.cz/clanky.php\""
   ]
  },
  {
   "cell_type": "code",
   "execution_count": 6,
   "metadata": {},
   "outputs": [],
   "source": [
    "root = get_root(base_url)  "
   ]
  },
  {
   "cell_type": "code",
   "execution_count": 7,
   "metadata": {},
   "outputs": [],
   "source": [
    "def get_column_names(root):\n",
    "    tags = []\n",
    "    for i, child in enumerate(root):  \n",
    "        for subchild in child[-1:]: \n",
    "            for k in subchild:\n",
    "                tags.append(k.tag)\n",
    "    return tags "
   ]
  },
  {
   "cell_type": "code",
   "execution_count": 8,
   "metadata": {},
   "outputs": [],
   "source": [
    "tags = get_column_names(root)"
   ]
  },
  {
   "cell_type": "code",
   "execution_count": 9,
   "metadata": {},
   "outputs": [],
   "source": [
    "def get_data(root):\n",
    "    records = []\n",
    "    data = []\n",
    "    for i, child in enumerate(root):\n",
    "        for subchild in child:\n",
    "            for j in subchild:\n",
    "                records.append(j.text)\n",
    "            try:\n",
    "                if len(records) != 0:\n",
    "                    data.append(records)\n",
    "                    records = []\n",
    "            except AttributeError as error:\n",
    "                return error\n",
    "    return data"
   ]
  },
  {
   "cell_type": "code",
   "execution_count": 10,
   "metadata": {},
   "outputs": [],
   "source": [
    "records = get_data(root)"
   ]
  },
  {
   "cell_type": "code",
   "execution_count": 11,
   "metadata": {},
   "outputs": [],
   "source": [
    "rawDf = pd.DataFrame(records, columns=tags)"
   ]
  },
  {
   "cell_type": "code",
   "execution_count": 12,
   "metadata": {},
   "outputs": [],
   "source": [
    "articleDf = rawDf[[\"title\", \"description\", \"pubDate\", \"image\"]]"
   ]
  },
  {
   "cell_type": "code",
   "execution_count": 13,
   "metadata": {},
   "outputs": [],
   "source": [
    "def unescape(x):\n",
    "        if x != None:\n",
    "            return (html.unescape(x).encode(\"utf-8\", \"xmlcharrefreplace\").decode())"
   ]
  },
  {
   "cell_type": "code",
   "execution_count": 14,
   "metadata": {},
   "outputs": [],
   "source": [
    "def sanitize_html(x):\n",
    "    \"\"\"Returns the given HTML with all tags stripped.\"\"\"\n",
    "    if x != None:\n",
    "        x = x.rstrip()\n",
    "        return re.sub(r'<[^>]*?>', '', x)"
   ]
  },
  {
   "cell_type": "code",
   "execution_count": 15,
   "metadata": {},
   "outputs": [],
   "source": [
    "def update_unicode(x):\n",
    "    if x != None:\n",
    "        x.strip()\n",
    "        x.replace('\\xa0', ' ')\n",
    "        x.replace('\\xad', ' ')\n",
    "        return unicodedata.normalize(\"NFKD\", x)"
   ]
  },
  {
   "cell_type": "code",
   "execution_count": 16,
   "metadata": {},
   "outputs": [],
   "source": [
    "def update_date(x):\n",
    "    return datetime.datetime.strptime(x, '%a, %d %b %Y %H:%M:%S %z').strftime('%d. %m. %Y %H:%M:%S')    "
   ]
  },
  {
   "cell_type": "code",
   "execution_count": 17,
   "metadata": {},
   "outputs": [],
   "source": [
    "articleCleanDf = articleDf.copy()"
   ]
  },
  {
   "cell_type": "code",
   "execution_count": 18,
   "metadata": {},
   "outputs": [],
   "source": [
    "articleDf.loc[:,('description')] = articleDf.loc[:,('description')].apply(unescape).apply(sanitize_html).apply(update_unicode)"
   ]
  },
  {
   "cell_type": "code",
   "execution_count": 19,
   "metadata": {},
   "outputs": [],
   "source": [
    "articleDf.loc[:,('title')] = articleDf.loc[:,('title')].apply(unescape).apply(sanitize_html).apply(update_unicode)"
   ]
  },
  {
   "cell_type": "code",
   "execution_count": 20,
   "metadata": {},
   "outputs": [],
   "source": [
    "articleDf.loc[:,('pubDate')] = articleDf.loc[:,('pubDate')].apply(update_date)"
   ]
  },
  {
   "cell_type": "code",
   "execution_count": 21,
   "metadata": {},
   "outputs": [],
   "source": [
    "articleDf = articleDf.replace([None], \"\")"
   ]
  },
  {
   "cell_type": "code",
   "execution_count": null,
   "metadata": {},
   "outputs": [],
   "source": [
    "articleDf"
   ]
  },
  {
   "cell_type": "code",
   "execution_count": 148,
   "metadata": {},
   "outputs": [],
   "source": [
    "def df_to_json(df):\n",
    "    article_json = df.to_json(orient='records')\n",
    "    temp_po = json.loads(article_json, encoding='utf-8')\n",
    "    temp_json = json.dumps(temp_po, ensure_ascii = False)\n",
    "    json_no_space = temp_json.replace('\\xad', ' ')\n",
    "    json_no_space = temp_json.replace('\\\\', '')\n",
    "    json_no_space = temp_json.replace('\\n', ' ')\n",
    "    return json_no_space"
   ]
  },
  {
   "cell_type": "code",
   "execution_count": 149,
   "metadata": {},
   "outputs": [],
   "source": [
    "b = df_to_json(articleDf)"
   ]
  },
  {
   "cell_type": "code",
   "execution_count": 150,
   "metadata": {},
   "outputs": [],
   "source": [
    "def print_json(json):\n",
    "    return print(json)"
   ]
  },
  {
   "cell_type": "code",
   "execution_count": null,
   "metadata": {},
   "outputs": [],
   "source": [
    "print_json(b)"
   ]
  }
 ],
 "metadata": {
  "kernelspec": {
   "display_name": "Python 3",
   "language": "python",
   "name": "python3"
  },
  "language_info": {
   "codemirror_mode": {
    "name": "ipython",
    "version": 3
   },
   "file_extension": ".py",
   "mimetype": "text/x-python",
   "name": "python",
   "nbconvert_exporter": "python",
   "pygments_lexer": "ipython3",
   "version": "3.6.0"
  }
 },
 "nbformat": 4,
 "nbformat_minor": 2
}
